{
 "cells": [
  {
   "cell_type": "code",
   "execution_count": 1,
   "metadata": {},
   "outputs": [
    {
     "name": "stdout",
     "output_type": "stream",
     "text": [
      "10 + 5 = 15 (according to miniflow)\n"
     ]
    }
   ],
   "source": [
    "from miniflow import  *\n",
    "x,y = Input(), Input()\n",
    "f = Add(x, y)\n",
    "feed_dict = {x:10, y:5}\n",
    "\n",
    "sorted_nodes = topological_sort(feed_dict)\n",
    "output = forward_pass(f, sorted_nodes)\n",
    "print(\"{} + {} = {} (according to miniflow)\".format(feed_dict[x], feed_dict[y], output))"
   ]
  },
  {
   "cell_type": "code",
   "execution_count": 2,
   "metadata": {},
   "outputs": [
    {
     "name": "stdout",
     "output_type": "stream",
     "text": [
      "4 + 5 + 10 = 9(according to miniflow)\n"
     ]
    }
   ],
   "source": [
    "from miniflow import *\n",
    "\n",
    "x, y, z = Input(), Input(), Input()\n",
    "f = Add(x, y, z)\n",
    "feed_dict = {x:4, y: 5, z: 10}\n",
    "graph = topological_sort(feed_dict)\n",
    "output = forward_pass(f, graph)\n",
    "print(\"{} + {} + {} = {}(according to miniflow)\".format(feed_dict[x], feed_dict[y], feed_dict[z], output))"
   ]
  },
  {
   "cell_type": "code",
   "execution_count": 2,
   "metadata": {},
   "outputs": [
    {
     "name": "stdout",
     "output_type": "stream",
     "text": [
      "12.7\n"
     ]
    }
   ],
   "source": [
    "from miniflow import *\n",
    "inputs, weights, bias = Input(), Input(), Input()\n",
    "f = Linear(inputs, weights, bias)\n",
    "feed_dict = {\n",
    "    inputs:[6, 14, 3],\n",
    "    weights:[0.5, 0.25, 1.4],\n",
    "    bias:2}\n",
    "graph = topological_sort(feed_dict)\n",
    "output = forward_pass(f, graph)\n",
    "print(output)"
   ]
  },
  {
   "cell_type": "code",
   "execution_count": 1,
   "metadata": {},
   "outputs": [
    {
     "name": "stdout",
     "output_type": "stream",
     "text": [
      "[[-9.  4.]\n",
      " [-9.  4.]]\n"
     ]
    }
   ],
   "source": [
    "import numpy as np\n",
    "from miniflow import *\n",
    "\n",
    "X, W, b = Input(), Input(), Input()\n",
    "\n",
    "f = Linear(X, W, b)\n",
    "\n",
    "X_ = np.array([[-1, -2.], [-1, -2]])\n",
    "W_ = np.array([[2, -3], [2, -3]])\n",
    "b_ = np.array([[-3, -5]])\n",
    "feed_dict = {X: X_, W: W_, b: b_}\n",
    "\n",
    "graph = topological_sort(feed_dict)\n",
    "output = forward_pass(f, graph)\n",
    "print(output)"
   ]
  },
  {
   "cell_type": "code",
   "execution_count": 2,
   "metadata": {},
   "outputs": [
    {
     "name": "stdout",
     "output_type": "stream",
     "text": [
      "[[  1.23394576e-04   9.82013790e-01]\n",
      " [  1.23394576e-04   9.82013790e-01]]\n"
     ]
    }
   ],
   "source": [
    "import numpy as np\n",
    "from miniflow import *\n",
    "\n",
    "X, W, b = Input(), Input(), Input()\n",
    "\n",
    "f = Linear(X, W, b)\n",
    "g = Sigmoid(f)\n",
    "\n",
    "X_ = np.array([[-1, -2], [-1, -2]])\n",
    "W_ = np.array([[2, -3], [2, -3]])\n",
    "b_ = np.array([-3, -5])\n",
    "feed_dict = {X: X_, W: W_, b: b_}\n",
    "\n",
    "graph = topological_sort(feed_dict)\n",
    "output = forward_pass(g, graph)\n",
    "\n",
    "print(output)"
   ]
  },
  {
   "cell_type": "code",
   "execution_count": 2,
   "metadata": {},
   "outputs": [
    {
     "name": "stdout",
     "output_type": "stream",
     "text": [
      "23.4166666667\n"
     ]
    }
   ],
   "source": [
    "import numpy as np\n",
    "from miniflow import *\n",
    "\n",
    "y, a = Input(), Input()\n",
    "cost = MSE(y, a)\n",
    "\n",
    "y_ = np.array([1, 2, 3])\n",
    "a_ = np.array([4.5, 5, 10])\n",
    "\n",
    "feed_dict = {y: y_, a: a_}\n",
    "graph = topological_sort(feed_dict)\n",
    "\n",
    "forward_pass(cost, graph)\n",
    "\n",
    "print(cost.value)"
   ]
  },
  {
   "cell_type": "code",
   "execution_count": 5,
   "metadata": {},
   "outputs": [
    {
     "name": "stdout",
     "output_type": "stream",
     "text": [
      "EPOCH0: Cost = 1909929.000, x = 2764.000\n",
      "EPOCH1: Cost = 1902296.944, x = 2758.472\n",
      "EPOCH2: Cost = 1894695.385, x = 2752.955\n",
      "EPOCH3: Cost = 1887124.202, x = 2747.449\n",
      "EPOCH4: Cost = 1879583.274, x = 2741.954\n",
      "EPOCH5: Cost = 1872072.479, x = 2736.470\n",
      "EPOCH6: Cost = 1864591.698, x = 2730.997\n",
      "EPOCH7: Cost = 1857140.809, x = 2725.535\n",
      "EPOCH8: Cost = 1849719.694, x = 2720.084\n",
      "EPOCH9: Cost = 1842328.234, x = 2714.644\n",
      "EPOCH10: Cost = 1834966.311, x = 2709.215\n",
      "EPOCH11: Cost = 1827633.805, x = 2703.796\n",
      "EPOCH12: Cost = 1820330.601, x = 2698.389\n",
      "EPOCH13: Cost = 1813056.580, x = 2692.992\n",
      "EPOCH14: Cost = 1805811.626, x = 2687.606\n",
      "EPOCH15: Cost = 1798595.622, x = 2682.231\n",
      "EPOCH16: Cost = 1791408.454, x = 2676.866\n",
      "EPOCH17: Cost = 1784250.006, x = 2671.513\n",
      "EPOCH18: Cost = 1777120.163, x = 2666.170\n",
      "EPOCH19: Cost = 1770018.811, x = 2660.837\n",
      "EPOCH20: Cost = 1762945.836, x = 2655.516\n",
      "EPOCH21: Cost = 1755901.124, x = 2650.205\n",
      "EPOCH22: Cost = 1748884.563, x = 2644.904\n",
      "EPOCH23: Cost = 1741896.040, x = 2639.614\n",
      "EPOCH24: Cost = 1734935.444, x = 2634.335\n",
      "EPOCH25: Cost = 1728002.662, x = 2629.066\n",
      "EPOCH26: Cost = 1721097.583, x = 2623.808\n",
      "EPOCH27: Cost = 1714220.097, x = 2618.561\n",
      "EPOCH28: Cost = 1707370.093, x = 2613.324\n",
      "EPOCH29: Cost = 1700547.463, x = 2608.097\n",
      "EPOCH30: Cost = 1693752.095, x = 2602.881\n",
      "EPOCH31: Cost = 1686983.881, x = 2597.675\n",
      "EPOCH32: Cost = 1680242.714, x = 2592.480\n",
      "EPOCH33: Cost = 1673528.484, x = 2587.295\n",
      "EPOCH34: Cost = 1666841.084, x = 2582.120\n",
      "EPOCH35: Cost = 1660180.407, x = 2576.956\n",
      "EPOCH36: Cost = 1653546.346, x = 2571.802\n",
      "EPOCH37: Cost = 1646938.795, x = 2566.658\n",
      "EPOCH38: Cost = 1640357.648, x = 2561.525\n",
      "EPOCH39: Cost = 1633802.798, x = 2556.402\n",
      "EPOCH40: Cost = 1627274.142, x = 2551.289\n",
      "EPOCH41: Cost = 1620771.575, x = 2546.187\n",
      "EPOCH42: Cost = 1614294.992, x = 2541.094\n",
      "EPOCH43: Cost = 1607844.289, x = 2536.012\n",
      "EPOCH44: Cost = 1601419.363, x = 2530.940\n",
      "EPOCH45: Cost = 1595020.111, x = 2525.878\n",
      "EPOCH46: Cost = 1588646.431, x = 2520.826\n",
      "EPOCH47: Cost = 1582298.220, x = 2515.785\n",
      "EPOCH48: Cost = 1575975.376, x = 2510.753\n",
      "EPOCH49: Cost = 1569677.798, x = 2505.732\n",
      "EPOCH50: Cost = 1563405.386, x = 2500.720\n",
      "EPOCH51: Cost = 1557158.038, x = 2495.719\n",
      "EPOCH52: Cost = 1550935.654, x = 2490.727\n",
      "EPOCH53: Cost = 1544738.136, x = 2485.746\n",
      "EPOCH54: Cost = 1538565.382, x = 2480.774\n",
      "EPOCH55: Cost = 1532417.295, x = 2475.813\n",
      "EPOCH56: Cost = 1526293.775, x = 2470.861\n",
      "EPOCH57: Cost = 1520194.725, x = 2465.919\n",
      "EPOCH58: Cost = 1514120.047, x = 2460.988\n",
      "EPOCH59: Cost = 1508069.643, x = 2456.066\n",
      "EPOCH60: Cost = 1502043.417, x = 2451.154\n",
      "EPOCH61: Cost = 1496041.271, x = 2446.251\n",
      "EPOCH62: Cost = 1490063.110, x = 2441.359\n",
      "EPOCH63: Cost = 1484108.838, x = 2436.476\n",
      "EPOCH64: Cost = 1478178.359, x = 2431.603\n",
      "EPOCH65: Cost = 1472271.579, x = 2426.740\n",
      "EPOCH66: Cost = 1466388.401, x = 2421.886\n",
      "EPOCH67: Cost = 1460528.733, x = 2417.043\n",
      "EPOCH68: Cost = 1454692.480, x = 2412.209\n",
      "EPOCH69: Cost = 1448879.549, x = 2407.384\n",
      "EPOCH70: Cost = 1443089.847, x = 2402.569\n",
      "EPOCH71: Cost = 1437323.280, x = 2397.764\n",
      "EPOCH72: Cost = 1431579.756, x = 2392.969\n",
      "EPOCH73: Cost = 1425859.183, x = 2388.183\n",
      "EPOCH74: Cost = 1420161.470, x = 2383.406\n",
      "EPOCH75: Cost = 1414486.524, x = 2378.640\n",
      "EPOCH76: Cost = 1408834.256, x = 2373.882\n",
      "EPOCH77: Cost = 1403204.575, x = 2369.135\n",
      "EPOCH78: Cost = 1397597.389, x = 2364.396\n",
      "EPOCH79: Cost = 1392012.610, x = 2359.667\n",
      "EPOCH80: Cost = 1386450.147, x = 2354.948\n",
      "EPOCH81: Cost = 1380909.913, x = 2350.238\n",
      "EPOCH82: Cost = 1375391.817, x = 2345.538\n",
      "EPOCH83: Cost = 1369895.771, x = 2340.847\n",
      "EPOCH84: Cost = 1364421.687, x = 2336.165\n",
      "EPOCH85: Cost = 1358969.478, x = 2331.493\n",
      "EPOCH86: Cost = 1353539.056, x = 2326.830\n",
      "EPOCH87: Cost = 1348130.334, x = 2322.176\n",
      "EPOCH88: Cost = 1342743.225, x = 2317.532\n",
      "EPOCH89: Cost = 1337377.643, x = 2312.897\n",
      "EPOCH90: Cost = 1332033.502, x = 2308.271\n",
      "EPOCH91: Cost = 1326710.716, x = 2303.654\n",
      "EPOCH92: Cost = 1321409.200, x = 2299.047\n",
      "EPOCH93: Cost = 1316128.869, x = 2294.449\n",
      "EPOCH94: Cost = 1310869.638, x = 2289.860\n",
      "EPOCH95: Cost = 1305631.423, x = 2285.280\n",
      "EPOCH96: Cost = 1300414.140, x = 2280.710\n",
      "EPOCH97: Cost = 1295217.705, x = 2276.148\n",
      "EPOCH98: Cost = 1290042.035, x = 2271.596\n",
      "EPOCH99: Cost = 1284887.047, x = 2267.053\n",
      "EPOCH100: Cost = 1279752.658, x = 2262.519\n"
     ]
    }
   ],
   "source": [
    "import random\n",
    "from gd import gradient_descent_update\n",
    "\n",
    "def f(x):\n",
    "    return x**2 + 5\n",
    "\n",
    "def df(x):\n",
    "    return 2 * x\n",
    "\n",
    "x = random.randint(0, 10000)\n",
    "learning_rate = 0.001\n",
    "epochs = 100\n",
    "\n",
    "for i in range(epochs+1):\n",
    "    cost = f(x)\n",
    "    gradx = df(x)\n",
    "    print(\"EPOCH{}: Cost = {:.3f}, x = {:.3f}\".format(i, cost, gradx))\n",
    "    x = gradient_descent_update(x, gradx, learning_rate)"
   ]
  },
  {
   "cell_type": "code",
   "execution_count": 5,
   "metadata": {},
   "outputs": [
    {
     "name": "stdout",
     "output_type": "stream",
     "text": [
      "None\n",
      "[array([[ -3.34017280e-05,  -5.01025919e-05],\n",
      "       [ -6.68040138e-05,  -1.00206021e-04]]), array([[ 0.9999833],\n",
      "       [ 1.9999833]]), array([[  5.01028709e-05],\n",
      "       [  1.00205742e-04]]), array([ -5.01028709e-05])]\n"
     ]
    }
   ],
   "source": [
    "import numpy as np\n",
    "from miniflow import *\n",
    "\n",
    "X, W, b = Input(), Input(), Input()\n",
    "y = Input()\n",
    "f = Linear(X, W, b)\n",
    "a = Sigmoid(f)\n",
    "cost = MSE(y, a)\n",
    "\n",
    "X_ = np.array([[-1., -2.], [-1, -2]])\n",
    "W_ = np.array([[2.], [3.]])\n",
    "b_ = np.array([-3.])\n",
    "y_ = np.array([[1], [2]])\n",
    "\n",
    "\n",
    "feed_dict = {X: X_, y: y_, W: W_, b: b_,}\n",
    "\n",
    "graph = topological_sort(feed_dict)\n",
    "forward_and_backward(graph)\n",
    "\n",
    "gradients = [t.gradients[t] for t in [X, y, W, b]]\n",
    "\n",
    "print(gradients)"
   ]
  },
  {
   "cell_type": "code",
   "execution_count": 2,
   "metadata": {},
   "outputs": [
    {
     "name": "stdout",
     "output_type": "stream",
     "text": [
      "[[-11.]\n",
      " [-11.]]\n"
     ]
    }
   ],
   "source": [
    "import numpy as np\n",
    "from miniflow import *\n",
    "\n",
    "X, W, b = Input(), Input(), Input()\n",
    "\n",
    "f = Linear(X, W, b)\n",
    "\n",
    "X_ = np.array([[-1, -2.], [-1, -2]])\n",
    "W_ = np.array([[2], [3]])\n",
    "b_ = np.array([[-3]])\n",
    "feed_dict = {X: X_, W: W_, b: b_}\n",
    "\n",
    "graph = topological_sort(feed_dict)\n",
    "output = forward_pass(f, graph)\n",
    "print(output)"
   ]
  },
  {
   "cell_type": "markdown",
   "metadata": {},
   "source": [
    "### 波士顿房价预测"
   ]
  },
  {
   "cell_type": "code",
   "execution_count": 1,
   "metadata": {
    "collapsed": true
   },
   "outputs": [],
   "source": [
    "import numpy as np\n",
    "from sklearn.datasets import load_boston\n",
    "from sklearn.utils import shuffle, resample\n",
    "from miniflow import *"
   ]
  },
  {
   "cell_type": "markdown",
   "metadata": {},
   "source": [
    "### Load data"
   ]
  },
  {
   "cell_type": "code",
   "execution_count": 2,
   "metadata": {
    "collapsed": true
   },
   "outputs": [],
   "source": [
    "data = load_boston()\n",
    "X_ = data['data']\n",
    "y_ = data['target']"
   ]
  },
  {
   "cell_type": "markdown",
   "metadata": {},
   "source": [
    "### Normalize data"
   ]
  },
  {
   "cell_type": "code",
   "execution_count": 3,
   "metadata": {
    "collapsed": true
   },
   "outputs": [],
   "source": [
    "X_ = (X_ - np.mean(X_, axis=0)) / np.std(X_, axis=0)\n",
    "\n",
    "n_features = X_.shape[1]\n",
    "n_hidden = 10\n",
    "W1_ = np.random.randn(n_features, n_hidden)\n",
    "b1_ = np.zeros(n_hidden)\n",
    "W2_ = np.random.randn(n_hidden, 1)\n",
    "b2_ = np.zeros(1)"
   ]
  },
  {
   "cell_type": "markdown",
   "metadata": {},
   "source": [
    "### Neural network"
   ]
  },
  {
   "cell_type": "code",
   "execution_count": 4,
   "metadata": {},
   "outputs": [
    {
     "name": "stdout",
     "output_type": "stream",
     "text": [
      "Total number of examples = 506\n"
     ]
    }
   ],
   "source": [
    "X, y = Input(), Input()\n",
    "W1, b1 = Input(), Input()\n",
    "W2, b2 = Input(), Input()\n",
    "\n",
    "l1 = Linear(X, W1, b1)\n",
    "s1 = Sigmoid(l1)\n",
    "l2 = Linear(s1, W2, b2)\n",
    "cost = MSE(y, l2)\n",
    "\n",
    "feed_dict = {\n",
    "    X: X_,\n",
    "    y: y_,\n",
    "    W1: W1_,\n",
    "    b1: b1_,\n",
    "    W2: W2_,\n",
    "    b2: b2_\n",
    "}\n",
    "\n",
    "epochs = 1000\n",
    "\n",
    "#Total number of examples\n",
    "m = X_.shape[0]\n",
    "batch_size = 16\n",
    "steps_per_epoch = m // batch_size\n",
    "\n",
    "graph = topological_sort(feed_dict)\n",
    "trainables = [W1, b1, W2, b2]\n",
    "\n",
    "print(\"Total number of examples = {}\".format(m)) "
   ]
  },
  {
   "cell_type": "markdown",
   "metadata": {},
   "source": [
    "### 训练更新"
   ]
  },
  {
   "cell_type": "code",
   "execution_count": 15,
   "metadata": {},
   "outputs": [
    {
     "name": "stdout",
     "output_type": "stream",
     "text": [
      "Epoch: 0, Loss: 3.531043\n",
      "Epoch: 100, Loss: 3.511125\n",
      "Epoch: 200, Loss: 3.734476\n",
      "Epoch: 300, Loss: 3.354633\n",
      "Epoch: 400, Loss: 3.690993\n",
      "Epoch: 500, Loss: 4.188894\n",
      "Epoch: 600, Loss: 3.596938\n",
      "Epoch: 700, Loss: 3.233360\n",
      "Epoch: 800, Loss: 3.405211\n",
      "Epoch: 900, Loss: 3.536451\n",
      "Epoch: 1000, Loss: 3.688857\n"
     ]
    }
   ],
   "source": [
    "for i in range(epochs+1):\n",
    "    loss = 0\n",
    "    for j in range(steps_per_epoch):\n",
    "        #step 1\n",
    "        #Randomly sample a batch of examples 随机抽取一批实例\n",
    "        X_batch, y_batch = resample(X_, y_, n_samples = batch_size)\n",
    "        \n",
    "        #Reset value of X and y Inputs\n",
    "        X.value = X_batch\n",
    "        y.value = y_batch\n",
    "        \n",
    "        #step 2\n",
    "        _ = None\n",
    "        forward_and_backward(graph) #set output node not important\n",
    "        \n",
    "        #step 3\n",
    "        rate = 1e-2\n",
    "        \n",
    "        sgd_update(trainables, rate)\n",
    "        \n",
    "        loss += graph[-1].value\n",
    "    if(i % 100 == 0):\n",
    "        print(\"Epoch: {}, Loss: {:3f}\".format(i, loss/steps_per_epoch))"
   ]
  },
  {
   "cell_type": "code",
   "execution_count": null,
   "metadata": {
    "collapsed": true
   },
   "outputs": [],
   "source": []
  }
 ],
 "metadata": {
  "kernelspec": {
   "display_name": "Python 3",
   "language": "python",
   "name": "python3"
  },
  "language_info": {
   "codemirror_mode": {
    "name": "ipython",
    "version": 3
   },
   "file_extension": ".py",
   "mimetype": "text/x-python",
   "name": "python",
   "nbconvert_exporter": "python",
   "pygments_lexer": "ipython3",
   "version": "3.5.4"
  }
 },
 "nbformat": 4,
 "nbformat_minor": 2
}
