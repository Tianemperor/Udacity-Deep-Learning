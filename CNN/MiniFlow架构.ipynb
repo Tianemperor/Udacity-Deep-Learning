{
 "cells": [
  {
   "cell_type": "markdown",
   "metadata": {},
   "source": [
    "### 用MiniFlow来实现图表结构，将使用一个Python类来表示普通节点\n",
    "添加两个列表：一个用于存储对传入节点的引用，另一个用于存储对传出节点的引用"
   ]
  },
  {
   "cell_type": "code",
   "execution_count": 1,
   "metadata": {
    "collapsed": true
   },
   "outputs": [],
   "source": [
    "class Node(object):\n",
    "    def __init__(self):\n",
    "        #Nodes from which this Node receives values(对传入节点的引用）\n",
    "        self.inbounds_nodes = inbound_nodes\n",
    "        \n",
    "        #Node to which this Node passes values\n",
    "        self.outbound_nodes = []\n",
    "        \n",
    "        #For each inbound Node here, add this Node as an outbound Node to _that_ Node\n",
    "        for n in self.inbound_nodes:\n",
    "            n.outbound_nodes.append(self)\n",
    "            \n",
    "    "
   ]
  },
  {
   "cell_type": "markdown",
   "metadata": {},
   "source": [
    "### 每个节点将最终计算出一个表示输出的值。将value初始化为None，表示该值存在，但尚未确定"
   ]
  },
  {
   "cell_type": "code",
   "execution_count": 2,
   "metadata": {
    "collapsed": true
   },
   "outputs": [],
   "source": [
    "class Node(object):\n",
    "    def __init__(self, inbound_nodes=[]):\n",
    "        #传入节点\n",
    "        self.inbound_nodes = inbound_nodes\n",
    "        #传出节点\n",
    "        self.outbound_nodes = []\n",
    "        for n in self.inbound_nodes:\n",
    "            n.outbound_nodes.append(self)\n",
    "        \n",
    "        #A calculate value\n",
    "        self.value = None\n",
    "        \n",
    "    def forward(self):\n",
    "        \"\"\"\n",
    "        \n",
    "        \"\"\"\n",
    "        raise NotImplemented"
   ]
  },
  {
   "cell_type": "markdown",
   "metadata": {},
   "source": [
    "### 考虑Node的Input子类\n",
    "与Node的其他子类不同，Input子类实际上并不计算任何内容。Input子类仅仅存储了一个value，例如数据特征或模型参数（权重/偏置）\n",
    "可以明确地设置value，或者用forward()方法进行设置。该值然后会传递给神经网络的其他节点。"
   ]
  },
  {
   "cell_type": "code",
   "execution_count": 3,
   "metadata": {
    "collapsed": true
   },
   "outputs": [],
   "source": [
    "class Input(Node):\n",
    "    def __init__(self):\n",
    "        #An Input node has no inbound nodes\n",
    "        #so no need to pass anything to the Node in stantiator.\n",
    "        Node.__init__(self)\n",
    "        \n",
    "    #NOTE: Input node is the only node where the value\n",
    "    #may be passed as an argument to forward().\n",
    "    #All other node implementations should get the value\n",
    "    #of the previous node from self.inbound_nodes \n",
    "    #Example:\n",
    "    #val0 = self.inbound_nodes[0].value\n",
    "    def forward(self, value=None):\n",
    "        #overwrite the value if one is passed in\n",
    "        if value is not None:\n",
    "            self.value = value"
   ]
  },
  {
   "cell_type": "markdown",
   "metadata": {},
   "source": [
    "### Add子类\n",
    "add是Node的另一个子类，实际上可以进行计算（加法）。\n",
    "注意__init__方法Add.__init__(self, [x, y])的不同之处。Input类没有传入节点，而Add类具有2个传入节点x和y，并将这两个节点的值相加。"
   ]
  },
  {
   "cell_type": "code",
   "execution_count": 4,
   "metadata": {
    "collapsed": true
   },
   "outputs": [],
   "source": [
    "class Add(Node):\n",
    "    def __init__(self, x, y):\n",
    "        Node.__init__(self, [x, y])\n",
    "    \n",
    "    def forward(self):\n",
    "        \"\"\"\n",
    "        You'll be writing code here in the next quiz\n",
    "        \"\"\""
   ]
  },
  {
   "cell_type": "code",
   "execution_count": null,
   "metadata": {
    "collapsed": true
   },
   "outputs": [],
   "source": []
  }
 ],
 "metadata": {
  "kernelspec": {
   "display_name": "Python 3",
   "language": "python",
   "name": "python3"
  },
  "language_info": {
   "codemirror_mode": {
    "name": "ipython",
    "version": 3
   },
   "file_extension": ".py",
   "mimetype": "text/x-python",
   "name": "python",
   "nbconvert_exporter": "python",
   "pygments_lexer": "ipython3",
   "version": "3.5.4"
  }
 },
 "nbformat": 4,
 "nbformat_minor": 2
}
